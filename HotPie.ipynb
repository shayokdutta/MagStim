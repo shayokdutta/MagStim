{
 "cells": [
  {
   "cell_type": "markdown",
   "metadata": {},
   "source": [
    "# Place preference quantification & heatmap generation code\n",
    "This is the demo template code for quantifying the place preference as well as generating heatmaps. Basically we're going to run the the video with opencv and manually sort of \"label\" it by pressing 1 or 2. The latter portion here shows the the heatmap generation example with seaborn's kdeplot function."
   ]
  },
  {
   "cell_type": "code",
   "execution_count": 1,
   "metadata": {
    "collapsed": true,
    "jupyter": {
     "outputs_hidden": true
    }
   },
   "outputs": [
    {
     "name": "stdout",
     "output_type": "stream",
     "text": [
      "3.4.3\n"
     ]
    }
   ],
   "source": [
    "#Imports\n",
    "import numpy as np\n",
    "from skimage.measure import label, regionprops, find_contours\n",
    "import skvideo.io\n",
    "import imageio\n",
    "import cv2\n",
    "import operator\n",
    "import math\n",
    "import matplotlib.pyplot as plt\n",
    "%matplotlib inline \n",
    "import time\n",
    "from tqdm import tqdm_notebook as tqdm\n",
    "import os\n",
    "\n",
    "\n",
    "print(cv2.__version__)"
   ]
  },
  {
   "cell_type": "markdown",
   "metadata": {},
   "source": [
    "# Ignore the cell below if you're not Shay"
   ]
  },
  {
   "cell_type": "code",
   "execution_count": 27,
   "metadata": {},
   "outputs": [
    {
     "ename": "SyntaxError",
     "evalue": "invalid syntax (<ipython-input-27-762eb3e84a55>, line 5)",
     "output_type": "error",
     "traceback": [
      "\u001b[0;36m  File \u001b[0;32m\"<ipython-input-27-762eb3e84a55>\"\u001b[0;36m, line \u001b[0;32m5\u001b[0m\n\u001b[0;31m    inputparameters = {\"-s\":640x480}\u001b[0m\n\u001b[0m                                  ^\u001b[0m\n\u001b[0;31mSyntaxError\u001b[0m\u001b[0;31m:\u001b[0m invalid syntax\n"
     ]
    }
   ],
   "source": [
    "# convert each video to an mp4 cuz who plays with mkv files?\n",
    "filename = \"/home/shayok/Downloads/myAnimal20181129_124437_track.1.h264\"\n",
    "videogen = skvideo.io.vreader(filename)\n",
    "metadata = skvideo.io.ffprobe(filename)\n",
    "inputparameters = {\"-s\":640x480}\n",
    "outputparameters = {}\n",
    "reader = skvideo.io.FFmpegReader(filename,\n",
    "                inputdict=inputparameters,\n",
    "                outputdict=outputparameters)\n",
    "print(reader.inputwidth,reader.inputheight,reader.inputframenum)\n",
    "fps=30\n",
    "outfile = \"/home/shayok/Downloads/myAnimal20181129_124437_track.1.mp4\"\n",
    "writer = imageio.get_writer(outfile, fps=fps)\n",
    "for i,im in tqdm(enumerate(reader.nextFrame())):\n",
    "    writer.append_data(im, meta={'fps': fps})\n",
    "writer.close()"
   ]
  },
  {
   "cell_type": "markdown",
   "metadata": {},
   "source": [
    "# Run me and have flan! (also fun)"
   ]
  },
  {
   "cell_type": "code",
   "execution_count": 16,
   "metadata": {
    "collapsed": true,
    "jupyter": {
     "outputs_hidden": true
    }
   },
   "outputs": [
    {
     "name": "stdout",
     "output_type": "stream",
     "text": [
      "input video file length is inf seconds\n",
      "input video file has a framerate of 60.0 fps\n",
      "Playing video\n"
     ]
    },
    {
     "data": {
      "application/vnd.jupyter.widget-view+json": {
       "model_id": "704457aabfd24b979eda30e6dc02ee75",
       "version_major": 2,
       "version_minor": 0
      },
      "text/plain": [
       "HBox(children=(IntProgress(value=1, bar_style='info', description='Playing back video', max=1, style=ProgressS…"
      ]
     },
     "metadata": {},
     "output_type": "display_data"
    },
    {
     "name": "stdout",
     "output_type": "stream",
     "text": [
      "Appending frames to Coil 1\n",
      "Stopped appending frames to Coil 1\n",
      "Appending frames to Coil 1\n",
      "Stopped appending frames to Coil 1\n",
      "Appending frames to Coil 1\n",
      "Stopped appending frames to Coil 1\n",
      "Appending frames to Coil 2\n",
      "Stopped appending frames to Coil 2\n",
      "Appending frames to Coil 2\n",
      "Stopped appending frames to Coil 2\n"
     ]
    }
   ],
   "source": [
    "# Imports\n",
    "import numpy as np\n",
    "from skimage.measure import label, regionprops, find_contours\n",
    "import imageio\n",
    "import cv2\n",
    "import operator\n",
    "import math\n",
    "import matplotlib.pyplot as plt\n",
    "%matplotlib inline \n",
    "import time\n",
    "from tqdm import tqdm_notebook\n",
    "import os\n",
    "\n",
    "\n",
    "#File IO\n",
    "infile = '/media/shayok/3TBData/Data/magreward/EnclosedImplant/Ratterson/pref0.mp4' #CHANGE ME!\n",
    "reader = imageio.get_reader(infile)\n",
    "fps = reader.get_meta_data()['fps']\n",
    "print('input video file length is {} seconds'.format(reader.get_length()/(fps)))\n",
    "print('input video file has a framerate of {} fps'.format(fps))\n",
    "# writer = imageio.get_writer('test-out.mp4', fps=fps) #CHANGE ME PER VIDEO!\n",
    "\n",
    "frameWait = 10 # msec #CHANGE ME!\n",
    "\n",
    "# just to give a bit of time before the video starts playing\n",
    "pauseTime = 0.1 # sec\n",
    "time.sleep(pauseTime)\n",
    "\n",
    "coil1Frames = []\n",
    "coil2Frames = []\n",
    "\n",
    "prevKey = 0\n",
    "stopAppendingCoil1 = False\n",
    "stopAppendingCoil2 = False\n",
    "appendCoil1 = False\n",
    "appendCoil2 = False\n",
    "\n",
    "print(\"Playing video\")\n",
    "\n",
    "#Read in file frame by frame\n",
    "for i, im in enumerate(tqdm_notebook(reader, desc='Playing back video')):\n",
    "    im = cv2.cvtColor(im, cv2.COLOR_RGB2BGR)\n",
    "    cv2.imshow('im', im)\n",
    "    #Wait frameWait before moving on to next frame\n",
    "    k = cv2.waitKey(frameWait) & 0xFF \n",
    "    if k == 49: #'1'\n",
    "        if(prevKey == 49):\n",
    "            stopAppendingCoil1 = True\n",
    "            appendCoil1 = False\n",
    "            prevKey = 0\n",
    "            print(\"Stopped appending frames to Coil 1\")\n",
    "        else:\n",
    "            print(\"Appending frames to Coil 1\")\n",
    "            stopAppendingCoil1 = False\n",
    "            appendCoil1 = True\n",
    "            prevKey = 49\n",
    "            coil1Frames.append(i)\n",
    "    elif k == 50: # 2\n",
    "        if(prevKey == 50):\n",
    "            stopAppendingCoil2 = True\n",
    "            appendCoil2 = False\n",
    "            prevKey = 0\n",
    "            print(\"Stopped appending frames to Coil 2\")\n",
    "        else:\n",
    "            print(\"Appending frames to Coil 2\")\n",
    "            stopAppendingCoil2 = False\n",
    "            appendCoil2 = True\n",
    "            prevKey = 50\n",
    "            coil2Frames.append(i)\n",
    "    if appendCoil1:\n",
    "        coil1Frames.append(i)\n",
    "    elif appendCoil2:\n",
    "        coil2Frames.append(i)\n",
    "        \n",
    "    if k == 112: #'p'\n",
    "        print(\"Video paused for {} seconds\".format(pauseTime))\n",
    "        time.sleep(pauseTime)\n",
    "        print(\"Playing video\")\n",
    "    if k == 27: #'ESC' \n",
    "        break\n",
    "    \n",
    "cv2.destroyAllWindows()\n",
    "\n",
    "# np.savez('/media/shayok/3TBData/Data/magreward/Butterworth/ContextPreference/6-26-18/offResPos.npz',positions=position.coordinates) #CHANGE ME TOO!"
   ]
  },
  {
   "cell_type": "code",
   "execution_count": 17,
   "metadata": {},
   "outputs": [
    {
     "data": {
      "image/png": "[encoded data removed]",
      "text/plain": [
       "<Figure size 432x288 with 1 Axes>"
      ]
     },
     "metadata": {},
     "output_type": "display_data"
    }
   ],
   "source": [
    "# Pie chart, where the slices will be ordered and plotted counter-clockwise:\n",
    "labels = 'Coil 1', 'Coil 2'\n",
    "sizes = [len(coil1Frames)*100/(len(coil1Frames)+len(coil2Frames)), len(coil2Frames)*100/(len(coil1Frames)+len(coil2Frames))]\n",
    "explode = (0, 0.1,)  # only \"explode\" the 2nd slice (i.e. 'Hogs')\n",
    "\n",
    "fig1, ax1 = plt.subplots()\n",
    "ax1.pie(sizes, explode=explode, labels=labels, autopct='%1.1f%%',\n",
    "        shadow=True, startangle=90)\n",
    "ax1.axis('equal')  # Equal aspect ratio ensures that pie is drawn as a circle.\n",
    "\n",
    "plt.show()"
   ]
  },
  {
   "cell_type": "code",
   "execution_count": null,
   "metadata": {},
   "outputs": [],
   "source": [
    "np.savez(\"/media/shayok/3TBData/Data/magreward/EnclosedImplant/Ratterson/pref0.npz\",coil1Frames=coil1Frames, coil2Frames=coil2Frames)"
   ]
  },
  {
   "cell_type": "markdown",
   "metadata": {},
   "source": [
    "# Heatmaps"
   ]
  },
  {
   "cell_type": "code",
   "execution_count": 1,
   "metadata": {
    "collapsed": true,
    "jupyter": {
     "outputs_hidden": true
    }
   },
   "outputs": [],
   "source": [
    "import numpy as np\n",
    "import nelpy as nel\n",
    "import nelpy.plotting as npl"
   ]
  },
  {
   "cell_type": "code",
   "execution_count": 11,
   "metadata": {},
   "outputs": [],
   "source": [
    "import matplotlib.pyplot as plt"
   ]
  },
  {
   "cell_type": "code",
   "execution_count": 126,
   "metadata": {},
   "outputs": [],
   "source": [
    "data = np.load(\"/media/shayok/3TBData/Data/magreward/EnclosedImplant/Durat/moo00.npz\")['positions']"
   ]
  },
  {
   "cell_type": "code",
   "execution_count": 127,
   "metadata": {},
   "outputs": [
    {
     "data": {
      "text/plain": [
       "(44460, 2)"
      ]
     },
     "execution_count": 127,
     "metadata": {},
     "output_type": "execute_result"
    }
   ],
   "source": [
    "data.shape"
   ]
  },
  {
   "cell_type": "code",
   "execution_count": 128,
   "metadata": {},
   "outputs": [],
   "source": [
    "occupancy = np.histogram2d(data[:,0],data[:,1],bins=100)[0].transpose()"
   ]
  },
  {
   "cell_type": "code",
   "execution_count": 103,
   "metadata": {},
   "outputs": [
    {
     "name": "stderr",
     "output_type": "stream",
     "text": [
      "WARNING:root:creating support from abscissa_vals and sampling rate, fs!\n",
      "WARNING:root:'fs' has been deprecated; use 'step' instead\n",
      "WARNING:root:some steps in the data are smaller than the requested step size.\n",
      "WARNING:root:creating support from abscissa_vals and sampling rate, fs!\n",
      "WARNING:root:'fs' has been deprecated; use 'step' instead\n",
      "WARNING:root:some steps in the data are smaller than the requested step size.\n"
     ]
    }
   ],
   "source": [
    "position_x = nel.AnalogSignalArray(data[:,0],fs=60)\n",
    "position_y = nel.AnalogSignalArray(data[:,1],fs=60)"
   ]
  },
  {
   "cell_type": "code",
   "execution_count": 104,
   "metadata": {},
   "outputs": [],
   "source": [
    "sigma = 1"
   ]
  },
  {
   "cell_type": "code",
   "execution_count": 108,
   "metadata": {},
   "outputs": [],
   "source": [
    "occupancy = np.histogram2d(position_x.smooth(sigma=sigma).data.squeeze(),position_y.smooth(sigma=sigma).data.squeeze(),bins=100)[0].transpose()"
   ]
  },
  {
   "cell_type": "code",
   "execution_count": 109,
   "metadata": {},
   "outputs": [],
   "source": [
    "#Shay's plot settings\n",
    "%matplotlib inline\n",
    "npl.setup()\n",
    "npl.set_palette(npl.colors.cows)\n",
    "npl.setup(font='Universalis ADF Cd Std', font_scale=2, palette=npl.colors.cows, style='white',\\\n",
    "         rc=({'figure.figsize': (10, 10), 'font.size': 18, 'axes.labelsize': 25, \\\n",
    "             'axes.titlesize':33, 'legend.fontsize': 20, 'ytick.labelsize': 20, 'xtick.labelsize': 20}))"
   ]
  },
  {
   "cell_type": "code",
   "execution_count": 113,
   "metadata": {},
   "outputs": [
    {
     "name": "stderr",
     "output_type": "stream",
     "text": [
      "/home/shayok/anaconda3/envs/python35/lib/python3.5/importlib/_bootstrap.py:222: RuntimeWarning: numpy.dtype size changed, may indicate binary incompatibility. Expected 96, got 88\n",
      "/home/shayok/anaconda3/envs/python35/lib/python3.5/importlib/_bootstrap.py:222: RuntimeWarning: numpy.ufunc size changed, may indicate binary incompatibility. Expected 216, got 192\n",
      "/home/shayok/anaconda3/envs/python35/lib/python3.5/importlib/_bootstrap.py:222: RuntimeWarning: numpy.ufunc size changed, may indicate binary incompatibility. Expected 216, got 192\n"
     ]
    }
   ],
   "source": [
    "import seaborn as sns"
   ]
  },
  {
   "cell_type": "code",
   "execution_count": 129,
   "metadata": {},
   "outputs": [
    {
     "data": {
      "image/png": "[encoded data removed]",
      "text/plain": [
       "<Figure size 432x432 with 1 Axes>"
      ]
     },
     "metadata": {},
     "output_type": "display_data"
    }
   ],
   "source": [
    "g = sns.jointplot(data[:,0],data[:,1],kind='kde',cmap=plt.cm.hot)\n",
    "\n",
    "g.ax_marg_x.remove()\n",
    "g.ax_marg_y.remove()"
   ]
  },
  {
   "cell_type": "code",
   "execution_count": 94,
   "metadata": {},
   "outputs": [
    {
     "data": {
      "text/plain": [
       "Text(0.5, 1.0, 'Trajectories')"
      ]
     },
     "execution_count": 94,
     "metadata": {},
     "output_type": "execute_result"
    },
    {
     "name": "stderr",
     "output_type": "stream",
     "text": [
      "/home/shayok/anaconda3/envs/python35/lib/python3.5/site-packages/matplotlib/font_manager.py:1241: UserWarning: findfont: Font family ['Universalis ADF Cd Std'] not found. Falling back to DejaVu Sans.\n"
     ]
    },
    {
     "data": {
      "image/png": "[encoded data removed]",
      "text/plain": [
       "<Figure size 720x720 with 1 Axes>"
      ]
     },
     "metadata": {},
     "output_type": "display_data"
    }
   ],
   "source": [
    "plt.plot(data[:,0]\n",
    "         , data[:,1]\n",
    "        )\n",
    "plt.gca().invert_yaxis()\n",
    "plt.gca().axes.get_xaxis().set_visible(False)\n",
    "plt.gca().axes.get_yaxis().set_visible(False)\n",
    "plt.title('Trajectories')"
   ]
  }
 ],
 "metadata": {
  "kernelspec": {
   "display_name": "Python 3",
   "language": "python",
   "name": "python3"
  },
  "language_info": {
   "codemirror_mode": {
    "name": "ipython",
    "version": 3
   },
   "file_extension": ".py",
   "mimetype": "text/x-python",
   "name": "python",
   "nbconvert_exporter": "python",
   "pygments_lexer": "ipython3",
   "version": "3.6.10"
  }
 },
 "nbformat": 4,
 "nbformat_minor": 4
}
